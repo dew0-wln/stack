{
  "nbformat": 4,
  "nbformat_minor": 0,
  "metadata": {
    "colab": {
      "provenance": [],
      "authorship_tag": "ABX9TyOEWzJxvxADdURMBPzmC4wt",
      "include_colab_link": true
    },
    "kernelspec": {
      "name": "python3",
      "display_name": "Python 3"
    },
    "language_info": {
      "name": "python"
    }
  },
  "cells": [
    {
      "cell_type": "markdown",
      "metadata": {
        "id": "view-in-github",
        "colab_type": "text"
      },
      "source": [
        "<a href=\"https://colab.research.google.com/github/dew0-wln/stack/blob/main/Code_pengecekan_bilangan_prima.ipynb\" target=\"_parent\"><img src=\"https://colab.research.google.com/assets/colab-badge.svg\" alt=\"Open In Colab\"/></a>"
      ]
    },
    {
      "cell_type": "code",
      "execution_count": 1,
      "metadata": {
        "colab": {
          "base_uri": "https://localhost:8080/"
        },
        "id": "dMfPr_HIeMOy",
        "outputId": "0a1493e6-1daa-43ec-9f59-002449fc8f49"
      },
      "outputs": [
        {
          "output_type": "stream",
          "name": "stdout",
          "text": [
            "Masukkan sebuah angka: 12\n",
            "12 bukan bilangan prima\n"
          ]
        }
      ],
      "source": [
        "def is_prime_brute_force(n):\n",
        "    # 0 dan 1 bukan bilangan prima\n",
        "    if n < 2:\n",
        "        return False\n",
        "    # Cek pembagi dari 2 sampai n-1\n",
        "    for i in range(2, n):\n",
        "        if n % i == 0:\n",
        "            return False\n",
        "    return True\n",
        "\n",
        "# Contoh penggunaan\n",
        "angka = int(input(\"Masukkan sebuah angka: \"))\n",
        "if is_prime_brute_force(angka):\n",
        "    print(f\"{angka} adalah bilangan prima\")\n",
        "else:\n",
        "    print(f\"{angka} bukan bilangan prima\")"
      ]
    }
  ]
}